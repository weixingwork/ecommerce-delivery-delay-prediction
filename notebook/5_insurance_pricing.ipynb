{
 "cells": [
  {
   "cell_type": "markdown",
   "id": "26aed58e",
   "metadata": {},
   "source": []
  },
  {
   "cell_type": "code",
   "execution_count": null,
   "id": "f4d5a2dc",
   "metadata": {},
   "outputs": [],
   "source": [
    "Month 01 Performance\n",
    "              precision    recall  f1-score   support\n",
    "\n",
    "           0       0.99      0.99      0.99      1803\n",
    "           1       0.72      0.65      0.68        77\n",
    "\n",
    "    accuracy                           0.98      1880\n",
    "   macro avg       0.85      0.82      0.84      1880\n",
    "weighted avg       0.97      0.98      0.97      1880"
   ]
  },
  {
   "cell_type": "code",
   "execution_count": null,
   "id": "b5179a06",
   "metadata": {},
   "outputs": [],
   "source": [
    "Month 02 Performance\n",
    "              precision    recall  f1-score   support\n",
    "\n",
    "           0       0.98      0.99      0.99      1766\n",
    "           1       0.88      0.87      0.87       203\n",
    "\n",
    "    accuracy                           0.97      1969\n",
    "   macro avg       0.93      0.93      0.93      1969\n",
    "weighted avg       0.97      0.97      0.97      1969"
   ]
  },
  {
   "cell_type": "code",
   "execution_count": null,
   "id": "6a95dc22",
   "metadata": {},
   "outputs": [],
   "source": [
    "Month 03 Performance\n",
    "              precision    recall  f1-score   support\n",
    "\n",
    "           0       0.97      0.98      0.98      2010\n",
    "           1       0.87      0.81      0.84       287\n",
    "\n",
    "    accuracy                           0.96      2297\n",
    "   macro avg       0.92      0.90      0.91      2297\n",
    "weighted avg       0.96      0.96      0.96      2297"
   ]
  },
  {
   "cell_type": "code",
   "execution_count": null,
   "id": "4c2385fb",
   "metadata": {},
   "outputs": [],
   "source": [
    "Month 04 Performance\n",
    "              precision    recall  f1-score   support\n",
    "\n",
    "           0       0.99      1.00      0.99      2095\n",
    "           1       0.82      0.64      0.72        73\n",
    "\n",
    "    accuracy                           0.98      2168\n",
    "   macro avg       0.91      0.82      0.86      2168\n",
    "weighted avg       0.98      0.98      0.98      2168\n"
   ]
  },
  {
   "cell_type": "code",
   "execution_count": null,
   "id": "f17151ad",
   "metadata": {},
   "outputs": [],
   "source": [
    "Month 05 Performance\n",
    "              precision    recall  f1-score   support\n",
    "\n",
    "           0       0.98      1.00      0.99      2384\n",
    "           1       0.84      0.56      0.67       100\n",
    "\n",
    "    accuracy                           0.98      2484\n",
    "   macro avg       0.91      0.78      0.83      2484\n",
    "weighted avg       0.98      0.98      0.98      2484"
   ]
  },
  {
   "cell_type": "code",
   "execution_count": null,
   "id": "a4016044",
   "metadata": {},
   "outputs": [],
   "source": [
    "Month 06 Performance\n",
    "              precision    recall  f1-score   support\n",
    "\n",
    "           0       1.00      1.00      1.00      2185\n",
    "           1       0.75      0.69      0.72        26\n",
    "\n",
    "    accuracy                           0.99      2211\n",
    "   macro avg       0.87      0.84      0.86      2211\n",
    "weighted avg       0.99      0.99      0.99      2211"
   ]
  },
  {
   "cell_type": "code",
   "execution_count": null,
   "id": "ded7ecb9",
   "metadata": {},
   "outputs": [],
   "source": [
    "Month 07 Performance\n",
    "              precision    recall  f1-score   support\n",
    "\n",
    "           0       0.99      1.00      0.99      2335\n",
    "           1       0.93      0.64      0.76        64\n",
    "\n",
    "    accuracy                           0.99      2399\n",
    "   macro avg       0.96      0.82      0.88      2399\n",
    "weighted avg       0.99      0.99      0.99      2399"
   ]
  },
  {
   "cell_type": "code",
   "execution_count": null,
   "id": "99dd34aa",
   "metadata": {},
   "outputs": [],
   "source": [
    "Month 08 Performance\n",
    "              precision    recall  f1-score   support\n",
    "\n",
    "           0       0.98      1.00      0.99      2414\n",
    "           1       0.80      0.46      0.58        79\n",
    "\n",
    "    accuracy                           0.98      2493\n",
    "   macro avg       0.89      0.73      0.78      2493\n",
    "weighted avg       0.98      0.98      0.98      2493\n"
   ]
  },
  {
   "cell_type": "code",
   "execution_count": null,
   "id": "c4ce11ec",
   "metadata": {},
   "outputs": [],
   "source": [
    "Month 09 Performance\n",
    "              precision    recall  f1-score   support\n",
    "\n",
    "           0       0.99      1.00      0.99       970\n",
    "           1       0.90      0.67      0.76        39\n",
    "\n",
    "    accuracy                           0.98      1009\n",
    "   macro avg       0.94      0.83      0.88      1009\n",
    "weighted avg       0.98      0.98      0.98      1009\n"
   ]
  },
  {
   "cell_type": "code",
   "execution_count": null,
   "id": "f3bbcad6",
   "metadata": {},
   "outputs": [],
   "source": [
    "Month 10 Performance\n",
    "              precision    recall  f1-score   support\n",
    "\n",
    "           0       0.99      0.99      0.99      1133\n",
    "           1       0.75      0.60      0.67        35\n",
    "\n",
    "    accuracy                           0.98      1168\n",
    "   macro avg       0.87      0.80      0.83      1168\n",
    "weighted avg       0.98      0.98      0.98      1168\n"
   ]
  },
  {
   "cell_type": "code",
   "execution_count": null,
   "id": "03b09b70",
   "metadata": {},
   "outputs": [],
   "source": [
    "Month 11 Performance\n",
    "              precision    recall  f1-score   support\n",
    "\n",
    "           0       0.97      0.98      0.98      1584\n",
    "           1       0.86      0.79      0.82       194\n",
    "\n",
    "    accuracy                           0.96      1778\n",
    "   macro avg       0.92      0.89      0.90      1778\n",
    "weighted avg       0.96      0.96      0.96      1778"
   ]
  },
  {
   "cell_type": "code",
   "execution_count": null,
   "id": "b4d3d580",
   "metadata": {},
   "outputs": [],
   "source": [
    "Month 12 Performance\n",
    "              precision    recall  f1-score   support\n",
    "\n",
    "           0       0.99      0.99      0.99      1229\n",
    "           1       0.85      0.83      0.84        66\n",
    "\n",
    "    accuracy                           0.98      1295\n",
    "   macro avg       0.92      0.91      0.92      1295\n",
    "weighted avg       0.98      0.98      0.98      1295"
   ]
  }
 ],
 "metadata": {
  "kernelspec": {
   "display_name": "base",
   "language": "python",
   "name": "python3"
  },
  "language_info": {
   "codemirror_mode": {
    "name": "ipython",
    "version": 3
   },
   "file_extension": ".py",
   "mimetype": "text/x-python",
   "name": "python",
   "nbconvert_exporter": "python",
   "pygments_lexer": "ipython3",
   "version": "3.12.7"
  }
 },
 "nbformat": 4,
 "nbformat_minor": 5
}
