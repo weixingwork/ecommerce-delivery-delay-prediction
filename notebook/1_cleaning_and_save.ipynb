{
 "cells": [
  {
   "cell_type": "code",
   "execution_count": 1,
   "id": "73cf9897",
   "metadata": {},
   "outputs": [],
   "source": [
    "# ===== Cell 1: Import and Load Raw Data =====\n",
    "import pandas as pd\n",
    "import numpy as np\n",
    "\n",
    "orders = pd.read_csv(\"../data/olist_orders_dataset.csv\", parse_dates=[\n",
    "    'order_purchase_timestamp', 'order_delivered_customer_date', 'order_estimated_delivery_date'])\n",
    "items = pd.read_csv(\"../data/olist_order_items_dataset.csv\")\n",
    "products = pd.read_csv(\"../data/olist_products_dataset.csv\")\n",
    "payments = pd.read_csv(\"../data/olist_order_payments_dataset.csv\")\n",
    "reviews = pd.read_csv(\"../data/olist_order_reviews_dataset.csv\")"
   ]
  },
  {
   "cell_type": "code",
   "execution_count": 2,
   "id": "1e82c354",
   "metadata": {},
   "outputs": [],
   "source": [
    "# ===== Cell 2: Clean and Create Delay Features =====\n",
    "orders = orders.dropna(subset=[\n",
    "    'order_delivered_customer_date',\n",
    "    'order_estimated_delivery_date',\n",
    "    'order_purchase_timestamp'\n",
    "])\n",
    "orders['delay_days'] = (orders['order_delivered_customer_date'] - orders['order_estimated_delivery_date']).dt.days\n",
    "orders['delay_days'] = orders['delay_days'].apply(lambda x: x if x > 0 and x <= 30 else 0)\n",
    "orders['shipping_days'] = (orders['order_delivered_customer_date'] - orders['order_purchase_timestamp']).dt.days\n",
    "orders['month'] = orders['order_purchase_timestamp'].dt.month\n"
   ]
  },
  {
   "cell_type": "code",
   "execution_count": 3,
   "id": "ce9a4b6e",
   "metadata": {},
   "outputs": [],
   "source": [
    "# ===== Cell 3: Merge Datasets =====\n",
    "order_full = orders.merge(items, on='order_id', how='left')\n",
    "order_full = order_full.merge(products[['product_id', 'product_category_name']], on='product_id', how='left')\n",
    "order_full = order_full.merge(payments[['order_id', 'payment_value']], on='order_id', how='left')\n",
    "order_full = order_full.merge(reviews[['order_id', 'review_score']], on='order_id', how='left')\n"
   ]
  },
  {
   "cell_type": "code",
   "execution_count": 5,
   "id": "ddc3930d",
   "metadata": {},
   "outputs": [
    {
     "name": "stdout",
     "output_type": "stream",
     "text": [
      " Cleaned dataset saved to CleanDeta/order_full_cleaned.csv\n"
     ]
    }
   ],
   "source": [
    "# ===== Cell 4: Save Cleaned Data =====\n",
    "order_full.to_csv(\"../CleanDeta/order_full_cleaned.csv\", index=False)\n",
    "print(\" Cleaned dataset saved to CleanDeta/order_full_cleaned.csv\")"
   ]
  }
 ],
 "metadata": {
  "kernelspec": {
   "display_name": "base",
   "language": "python",
   "name": "python3"
  },
  "language_info": {
   "codemirror_mode": {
    "name": "ipython",
    "version": 3
   },
   "file_extension": ".py",
   "mimetype": "text/x-python",
   "name": "python",
   "nbconvert_exporter": "python",
   "pygments_lexer": "ipython3",
   "version": "3.12.7"
  }
 },
 "nbformat": 4,
 "nbformat_minor": 5
}
